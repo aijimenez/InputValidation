{
 "cells": [
  {
   "cell_type": "code",
   "execution_count": 4,
   "metadata": {},
   "outputs": [
    {
     "name": "stdout",
     "output_type": "stream",
     "text": [
      "Welcome to Sandwich World\n",
      "How many sandwich would you like to order? 2\n",
      "Sandwich 2\n",
      "Sandwich 1\n"
     ]
    }
   ],
   "source": [
    "#Sandwich preferences\n",
    "import pyinputplus as pyip\n",
    "\n",
    "print('Welcome to Sandwich World')\n",
    "nSandwich = pyip.inputInt('How many sandwich would you like to order? ', min = 0)\n",
    "if nSandwich == 0:\n",
    "    print('Maybe later. Have a nice day!')\n",
    "else:\n",
    "    while nSandwich != 0:\n",
    "        print('Sandwich', nSandwich)\n",
    "        \n",
    "        nSandwich -=1\n"
   ]
  },
  {
   "cell_type": "code",
   "execution_count": 2,
   "metadata": {},
   "outputs": [
    {
     "name": "stdout",
     "output_type": "stream",
     "text": [
      "Hola\n",
      "Hola\n"
     ]
    }
   ],
   "source": [
    "n=2\n",
    "while n != 0:\n",
    "    print('Hola')\n",
    "    n -= 1"
   ]
  },
  {
   "cell_type": "code",
   "execution_count": null,
   "metadata": {},
   "outputs": [],
   "source": []
  }
 ],
 "metadata": {
  "kernelspec": {
   "display_name": "Python 3",
   "language": "python",
   "name": "python3"
  },
  "language_info": {
   "codemirror_mode": {
    "name": "ipython",
    "version": 3
   },
   "file_extension": ".py",
   "mimetype": "text/x-python",
   "name": "python",
   "nbconvert_exporter": "python",
   "pygments_lexer": "ipython3",
   "version": "3.7.3"
  }
 },
 "nbformat": 4,
 "nbformat_minor": 2
}
